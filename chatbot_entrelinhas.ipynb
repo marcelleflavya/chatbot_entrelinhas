{
  "nbformat": 4,
  "nbformat_minor": 0,
  "metadata": {
    "colab": {
      "provenance": [],
      "authorship_tag": "ABX9TyOdnmbkRa5QToQXVDyLAckn",
      "include_colab_link": true
    },
    "kernelspec": {
      "name": "python3",
      "display_name": "Python 3"
    },
    "language_info": {
      "name": "python"
    }
  },
  "cells": [
    {
      "cell_type": "markdown",
      "metadata": {
        "id": "view-in-github",
        "colab_type": "text"
      },
      "source": [
        "<a href=\"https://colab.research.google.com/github/marcelleflavya/chatbot_entrelinhas/blob/main/chatbot_entrelinhas.ipynb\" target=\"_parent\"><img src=\"https://colab.research.google.com/assets/colab-badge.svg\" alt=\"Open In Colab\"/></a>"
      ]
    },
    {
      "cell_type": "code",
      "execution_count": 1,
      "metadata": {
        "id": "7JlFGcizQi8e"
      },
      "outputs": [],
      "source": [
        "%pip -q install google-genai"
      ]
    },
    {
      "cell_type": "code",
      "source": [
        "import os\n",
        "from google.colab import userdata\n",
        "\n",
        "os.environ[\"GOOGLE_API_KEY\"] = userdata.get('GOOGLE_API_KEY')"
      ],
      "metadata": {
        "id": "Vd7Ck1prCbDV"
      },
      "execution_count": 3,
      "outputs": []
    },
    {
      "cell_type": "code",
      "source": [
        "from google import genai\n",
        "\n",
        "client = genai.Client()\n",
        "\n",
        "MODEL_ID = \"gemini-2.0-flash\""
      ],
      "metadata": {
        "id": "s6K_YrjjCUkU"
      },
      "execution_count": 4,
      "outputs": []
    },
    {
      "cell_type": "code",
      "source": [
        "!pip install -q google-adk"
      ],
      "metadata": {
        "colab": {
          "base_uri": "https://localhost:8080/"
        },
        "id": "Xg9cINXYCg8g",
        "outputId": "b34c8d74-d8cb-429f-b169-1aee64255e59"
      },
      "execution_count": 5,
      "outputs": [
        {
          "output_type": "stream",
          "name": "stdout",
          "text": [
            "\u001b[?25l   \u001b[90m━━━━━━━━━━━━━━━━━━━━━━━━━━━━━━━━━━━━━━━━\u001b[0m \u001b[32m0.0/1.2 MB\u001b[0m \u001b[31m?\u001b[0m eta \u001b[36m-:--:--\u001b[0m\r\u001b[2K   \u001b[91m━━━━━━━━━━━━━━\u001b[0m\u001b[91m╸\u001b[0m\u001b[90m━━━━━━━━━━━━━━━━━━━━━━━━━\u001b[0m \u001b[32m0.4/1.2 MB\u001b[0m \u001b[31m13.0 MB/s\u001b[0m eta \u001b[36m0:00:01\u001b[0m\r\u001b[2K   \u001b[91m━━━━━━━━━━━━━━━━━━━━━━━━━━━━━━━━━━━━━━━\u001b[0m\u001b[91m╸\u001b[0m \u001b[32m1.2/1.2 MB\u001b[0m \u001b[31m23.9 MB/s\u001b[0m eta \u001b[36m0:00:01\u001b[0m\r\u001b[2K   \u001b[90m━━━━━━━━━━━━━━━━━━━━━━━━━━━━━━━━━━━━━━━━\u001b[0m \u001b[32m1.2/1.2 MB\u001b[0m \u001b[31m15.6 MB/s\u001b[0m eta \u001b[36m0:00:00\u001b[0m\n",
            "\u001b[2K   \u001b[90m━━━━━━━━━━━━━━━━━━━━━━━━━━━━━━━━━━━━━━━━\u001b[0m \u001b[32m232.1/232.1 kB\u001b[0m \u001b[31m13.3 MB/s\u001b[0m eta \u001b[36m0:00:00\u001b[0m\n",
            "\u001b[2K   \u001b[90m━━━━━━━━━━━━━━━━━━━━━━━━━━━━━━━━━━━━━━━━\u001b[0m \u001b[32m95.2/95.2 kB\u001b[0m \u001b[31m5.9 MB/s\u001b[0m eta \u001b[36m0:00:00\u001b[0m\n",
            "\u001b[2K   \u001b[90m━━━━━━━━━━━━━━━━━━━━━━━━━━━━━━━━━━━━━━━━\u001b[0m \u001b[32m217.1/217.1 kB\u001b[0m \u001b[31m13.9 MB/s\u001b[0m eta \u001b[36m0:00:00\u001b[0m\n",
            "\u001b[2K   \u001b[90m━━━━━━━━━━━━━━━━━━━━━━━━━━━━━━━━━━━━━━━━\u001b[0m \u001b[32m334.1/334.1 kB\u001b[0m \u001b[31m21.5 MB/s\u001b[0m eta \u001b[36m0:00:00\u001b[0m\n",
            "\u001b[2K   \u001b[90m━━━━━━━━━━━━━━━━━━━━━━━━━━━━━━━━━━━━━━━━\u001b[0m \u001b[32m125.1/125.1 kB\u001b[0m \u001b[31m9.5 MB/s\u001b[0m eta \u001b[36m0:00:00\u001b[0m\n",
            "\u001b[2K   \u001b[90m━━━━━━━━━━━━━━━━━━━━━━━━━━━━━━━━━━━━━━━━\u001b[0m \u001b[32m65.8/65.8 kB\u001b[0m \u001b[31m4.4 MB/s\u001b[0m eta \u001b[36m0:00:00\u001b[0m\n",
            "\u001b[2K   \u001b[90m━━━━━━━━━━━━━━━━━━━━━━━━━━━━━━━━━━━━━━━━\u001b[0m \u001b[32m119.0/119.0 kB\u001b[0m \u001b[31m8.3 MB/s\u001b[0m eta \u001b[36m0:00:00\u001b[0m\n",
            "\u001b[2K   \u001b[90m━━━━━━━━━━━━━━━━━━━━━━━━━━━━━━━━━━━━━━━━\u001b[0m \u001b[32m194.9/194.9 kB\u001b[0m \u001b[31m12.3 MB/s\u001b[0m eta \u001b[36m0:00:00\u001b[0m\n",
            "\u001b[2K   \u001b[90m━━━━━━━━━━━━━━━━━━━━━━━━━━━━━━━━━━━━━━━━\u001b[0m \u001b[32m62.5/62.5 kB\u001b[0m \u001b[31m4.1 MB/s\u001b[0m eta \u001b[36m0:00:00\u001b[0m\n",
            "\u001b[2K   \u001b[90m━━━━━━━━━━━━━━━━━━━━━━━━━━━━━━━━━━━━━━━━\u001b[0m \u001b[32m103.3/103.3 kB\u001b[0m \u001b[31m6.1 MB/s\u001b[0m eta \u001b[36m0:00:00\u001b[0m\n",
            "\u001b[2K   \u001b[90m━━━━━━━━━━━━━━━━━━━━━━━━━━━━━━━━━━━━━━━━\u001b[0m \u001b[32m44.4/44.4 kB\u001b[0m \u001b[31m3.1 MB/s\u001b[0m eta \u001b[36m0:00:00\u001b[0m\n",
            "\u001b[2K   \u001b[90m━━━━━━━━━━━━━━━━━━━━━━━━━━━━━━━━━━━━━━━━\u001b[0m \u001b[32m72.0/72.0 kB\u001b[0m \u001b[31m4.5 MB/s\u001b[0m eta \u001b[36m0:00:00\u001b[0m\n",
            "\u001b[?25h"
          ]
        }
      ]
    },
    {
      "cell_type": "code",
      "source": [
        "from google.adk.agents import Agent\n",
        "from google.adk.runners import Runner\n",
        "from google.adk.sessions import InMemorySessionService\n",
        "from google.adk.tools import google_search\n",
        "from google.genai import types  # Para criar conteúdos (Content e Part)\n",
        "from datetime import date\n",
        "import textwrap # Para formatar melhor a saída de texto\n",
        "from IPython.display import display, Markdown # Para exibir texto formatado no Colab\n",
        "import requests # Para fazer requisições HTTP\n",
        "import warnings\n",
        "\n",
        "warnings.filterwarnings(\"ignore\")"
      ],
      "metadata": {
        "id": "R5NpypN5CnAy"
      },
      "execution_count": 6,
      "outputs": []
    },
    {
      "cell_type": "code",
      "source": [
        "# Função auxiliar que envia uma mensagem para um agente via Runner e retorna a resposta final\n",
        "def call_agent(agent: Agent, message_text: str) -> str:\n",
        "    # Cria um serviço de sessão em memória\n",
        "    session_service = InMemorySessionService()\n",
        "    # Cria uma nova sessão (você pode personalizar os IDs conforme necessário)\n",
        "    session = session_service.create_session(app_name=agent.name, user_id=\"user1\", session_id=\"session1\")\n",
        "    # Cria um Runner para o agente\n",
        "    runner = Runner(agent=agent, app_name=agent.name, session_service=session_service)\n",
        "    # Cria o conteúdo da mensagem de entrada\n",
        "    content = types.Content(role=\"user\", parts=[types.Part(text=message_text)])\n",
        "\n",
        "    final_response = \"\"\n",
        "    # Itera assincronamente pelos eventos retornados durante a execução do agente\n",
        "    for event in runner.run(user_id=\"user1\", session_id=\"session1\", new_message=content):\n",
        "        if event.is_final_response():\n",
        "          for part in event.content.parts:\n",
        "            if part.text is not None:\n",
        "              final_response += part.text\n",
        "              final_response += \"\\n\"\n",
        "    return final_response"
      ],
      "metadata": {
        "id": "9X5pNr7qCrZd"
      },
      "execution_count": 7,
      "outputs": []
    },
    {
      "cell_type": "code",
      "source": [
        "# Função auxiliar para exibir texto formatado em Markdown no Colab\n",
        "def to_markdown(text):\n",
        "  text = text.replace('•', '  *')\n",
        "  return Markdown(textwrap.indent(text, '> ', predicate=lambda _: True))"
      ],
      "metadata": {
        "id": "cG70hxVLCwfh"
      },
      "execution_count": 8,
      "outputs": []
    },
    {
      "cell_type": "code",
      "source": [
        "##########################################\n",
        "# --- Agente 1: Buscador de Livros --- #\n",
        "##########################################\n",
        "def agente_buscador_livros(nome_livro):\n",
        "    buscador = Agent(\n",
        "        name=\"agente_buscador_livros\",\n",
        "        model=\"gemini-2.0-flash\",\n",
        "        instruction=\"\"\"\n",
        "        Vocẽ é um assistente de pesquisa e a sua tarefa é usar a ferramenta de busca do google (google_search)\n",
        "        para pesquisar informações sobre livros a partir do seu título.\n",
        "        Retorne o nome do livro, o autor e um resumo breve de no maximo 5 linhas sobre do que se trata a historia, focando em detalhes sobre o livro.\n",
        "        \"\"\",\n",
        "        description=\"Agente que busca informações no Google sobre livros \",\n",
        "        tools={google_search},\n",
        "    )\n",
        "\n",
        "\n",
        "    entrada_do_agente_buscador_livro= f\"Livro: {nome_livro}\"\n",
        "\n",
        "    # Executa o agente\n",
        "    informacoes_livros= call_agent(buscador, entrada_do_agente_buscador_livro)\n",
        "    return informacoes_livros"
      ],
      "metadata": {
        "id": "MR6AqCh4C1um"
      },
      "execution_count": 13,
      "outputs": []
    },
    {
      "cell_type": "code",
      "source": [
        "##########################################\n",
        "# --- Agente 2: Buscador de autores --- #\n",
        "##########################################\n",
        "def agente_buscador_autores(nome_autor):\n",
        "    buscador = Agent(\n",
        "        name=\"agente_buscador_autor\",\n",
        "        model=\"gemini-2.0-flash\",\n",
        "        instruction=\"\"\"\n",
        "        Vocẽ é um assistente de pesquisa e a sua tarefa é usar a ferramenta de busca do google (google_search)\n",
        "        para pesquisar informações sobre um autor a partir do seu nome.\n",
        "        Retorne o nome do autor e um resumo breve de no maximo 5 linhas sobre a biografia dele, incluindo outros livros que ele tenha publicado.\n",
        "        \"\"\",\n",
        "        description=\"Agente que busca informações no Google sobre autores \",\n",
        "        tools={google_search},\n",
        "    )\n",
        "\n",
        "    entrada_do_agente_buscador_autor= f\"Autor: {nome_autor}\"\n",
        "\n",
        "    # Executa o agente\n",
        "    informacoes_livros_autor= call_agent(buscador, entrada_do_agente_buscador_autor)\n",
        "    return informacoes_livros_autor"
      ],
      "metadata": {
        "id": "jJF7Fq9FC2B8"
      },
      "execution_count": 14,
      "outputs": []
    },
    {
      "cell_type": "code",
      "source": [
        "##########################################\n",
        "# --- Agente 3: Informações gerais --- #\n",
        "##########################################\n",
        "def agente_informacoes(informacoes_livros ):\n",
        "    buscador = Agent(\n",
        "        name=\"agente_buscador_informacoes\",\n",
        "        model=\"gemini-2.0-flash\",\n",
        "        instruction=\"\"\"\n",
        "        Vocẽ é um assistente de pesquisa e a sua tarefa é usar a ferramenta de busca do google (google_search)\n",
        "        para pesquisar informações sobre um livro e seu autor, retornando curiosidades interessantes como por exemplo: metodo de escrita,\n",
        "        momento em que o livro foi desenvolvido, prêmios que o livro possa ter recebido. Reunia as curiosidades e informações mais interessantes em um texto de até 7 linhas.\n",
        "        \"\"\",\n",
        "        description=\"Agente que busca informações no Google sobre curiosidades sobre um determinado livro\",\n",
        "        tools={google_search},\n",
        "    )\n",
        "\n",
        "    entrada_do_agente_informacoes= f\"Livro:{informacoes_livros}\"\n",
        "\n",
        "    # Executa o agente\n",
        "    informacoes_livros_geral= call_agent(buscador, entrada_do_agente_informacoes)\n",
        "    return informacoes_livros_geral"
      ],
      "metadata": {
        "id": "h1CMX3cYC6pK"
      },
      "execution_count": 15,
      "outputs": []
    },
    {
      "cell_type": "code",
      "source": [
        "print(\"Iniciando o Sistema de busca de Livros: \")\n",
        "\n",
        "\n",
        "print(\"\"\"-----Escolha uma opção-----\\n\n",
        "1 - Para saber sobre um livro e um breve resumo\\n\n",
        "2 - Para saber sobre um autor e um breve resumo de sua biografia\\n\n",
        "3 - Para saber sobre as curiosidades do seu livro preferido\\n\n",
        "4 - Para sair\\n\n",
        "\"\"\")\n",
        "\n",
        "opcao = input(\"Digite o número da opção desejada: \")\n",
        "\n",
        "\n",
        "\n",
        "if opcao == \"1\":\n",
        "   nome_livro = input(\"Olá, digite o nome do livro para buscar informações sobre ele: \")\n",
        "   print(f'Vamos pesquisar um pouco mais sobre {nome_livro}')\n",
        "   livro_buscado = agente_buscador_livros(nome_livro)\n",
        "   print(\"\\n--- Resultado do agente 1 (Buscador de livros) ---\\n\")\n",
        "   display(to_markdown(livro_buscado))\n",
        "   print(\"-----------------------------------------------------\")\n",
        "\n",
        "\n",
        "elif opcao == \"2\":\n",
        "  nome_autor = input(\"Olá, digite o nome do autor para buscar informações sobre ele: \")\n",
        "  print(f'Vamos pesquisar um pouco mais sobre {nome_autor}')\n",
        "  autor_buscado= agente_buscador_autores(nome_autor)\n",
        "  print(\"\\n--- Resultado do agente 2 (Buscador de autores) ---\\n\")\n",
        "  display(to_markdown(autor_buscado))\n",
        "  print(\"-----------------------------------------------------\")\n",
        "\n",
        "\n",
        "elif opcao == \"3\":\n",
        "        print(\"Pesquisando curiosidades sobre livros...\")\n",
        "        nome_livro = input(\"Olá, digite o nome do livro para buscar informações sobre ele: \")\n",
        "        livro_buscado = agente_buscador_livros(nome_livro)\n",
        "        informacoes_gerais = agente_informacoes(livro_buscado)\n",
        "        print(\"\\n--- Resultado do agente 3 (Informações gerais) ---\\n\")\n",
        "        display(to_markdown(informacoes_gerais))\n",
        "        print(\"-----------------------------------------------------\")\n",
        "\n",
        "\n",
        "elif opcao == \"4\":\n",
        "  print(\"Saindo do sistema...\")\n",
        "  exit()\n",
        "\n",
        "else:\n",
        "  print(\"Opção inválida. Retorne para uma opção válida.\")"
      ],
      "metadata": {
        "colab": {
          "base_uri": "https://localhost:8080/"
        },
        "id": "0y6m5H_MC-iV",
        "outputId": "8ee0586c-1256-4458-a0a7-6d9907bbf216"
      },
      "execution_count": null,
      "outputs": [
        {
          "output_type": "stream",
          "name": "stdout",
          "text": [
            "Iniciando o Sistema de busca de Livros: \n",
            "-----Escolha uma opção-----\n",
            "\n",
            "1 - Para saber sobre um livro e um breve resumo\n",
            "\n",
            "2 - Para saber sobre um autor e um breve resumo de sua biografia\n",
            "\n",
            "3 - Para saber sobre as curiosidades do seu livro preferido\n",
            "\n",
            "4 - Para sair\n",
            "\n",
            "\n"
          ]
        }
      ]
    }
  ]
}